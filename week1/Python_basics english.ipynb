{
  "cells": [
    {
      "attachments": {},
      "cell_type": "markdown",
      "id": "e1da4732",
      "metadata": {
        "id": "e1da4732"
      },
      "source": [
        "# Python_Basics"
      ]
    },
    {
      "attachments": {},
      "cell_type": "markdown",
      "id": "a16dbdd0",
      "metadata": {
        "id": "a16dbdd0"
      },
      "source": [
        "Baisc data type\n",
        "*   bool : True , False\n",
        "*   int : 95 , 21230\n",
        "*   float : 3.14 , 2.7e5\n",
        "*   complex : 3j , 5+9j\n",
        "*   str : 'C4Lab' , \"NTU\"\n",
        "*   list : ['apple', 'banana', 'orange']\n",
        "*   tuple : (4, 3, 7)\n",
        "*   set : {45, 123, 981} , set([3, 5, 7])\n",
        "*   dict : {'game' : 'LOL', 'name' : 'matt'}"
      ]
    },
    {
      "attachments": {},
      "cell_type": "markdown",
      "id": "eac7f7c4",
      "metadata": {
        "id": "eac7f7c4"
      },
      "source": [
        "Variable rules and types\n",
        "*\trules:Variables can only contain uppercase letters, lowercase letters, digits (0-9), and underscores (_). They are case-sensitive.       \n",
        "    Variables must start with a letter or underscore, and cannot start with a digit. They cannot be Python reserved words (e.g., True).\n",
        "*\ttype:You can use the type() function to determine the type of a variable.\n",
        "*\tUse print() to output the variables. Separate the contents with commas.\n",
        "*   print(*object,sep='',end='')"
      ]
    },
    {
      "cell_type": "code",
      "execution_count": 1,
      "id": "7200f566",
      "metadata": {
        "id": "7200f566",
        "outputId": "94334943-be68-48bc-a422-d58ddc503869"
      },
      "outputs": [
        {
          "name": "stdout",
          "output_type": "stream",
          "text": [
            "_a 1 <class 'int'>\n",
            "b C4Lab <class 'str'>\n",
            "c True <class 'bool'>\n",
            "d [1, 2, 3] <class 'list'>\n",
            "e (1, 2, 3) <class 'tuple'>\n",
            "f {1: 1, 'C4Lab': 2} <class 'dict'>\n",
            "12-59-c4Lab!"
          ]
        }
      ],
      "source": [
        "_a = 1\n",
        "print('_a',_a,type(_a))\n",
        "\n",
        "B = 'C4Lab'\n",
        "print('b',B,type(B))\n",
        "\n",
        "c0 = True\n",
        "print('c',c0,type(c0))\n",
        "\n",
        "d_ = [1,2,3]\n",
        "print('d',d_,type(d_))\n",
        "\n",
        "e = (1,2,3)\n",
        "print('e',e,type(e))\n",
        "\n",
        "f = {_a:1,B:2}\n",
        "print('f',f,type(f))\n",
        "print('12','59','c4Lab',sep='-',end='!')\n",
        "\n",
        "\n"
      ]
    },
    {
      "attachments": {},
      "cell_type": "markdown",
      "id": "398c9aff",
      "metadata": {
        "id": "398c9aff"
      },
      "source": [
        "Arithmetic operations\n",
        "*\tInteger division: 3 // 2 = 1 , 17 // 5 = 3\n",
        "*\tModulo: 9 % 2 = 1 , 9 % 5 = 4\n",
        "*\tExponentiation: 3 ** 2 = 9 , 5 ** 3 = 125"
      ]
    },
    {
      "cell_type": "code",
      "execution_count": 2,
      "id": "0f161acb",
      "metadata": {
        "id": "0f161acb",
        "outputId": "6b3a8b35-809e-41a1-e560-31a3ce3e6814"
      },
      "outputs": [
        {
          "name": "stdout",
          "output_type": "stream",
          "text": [
            "a + b = 9\n",
            "a - b = 5\n",
            "a * b = 14\n",
            "a / b = 3.5\n",
            "Quotient: a // b = 3\n",
            "modulo: a % b = 1\n",
            "a to the bth power: a ** b = 49\n"
          ]
        }
      ],
      "source": [
        "a = 7\n",
        "b = 2\n",
        "print('a + b =',a + b)\n",
        "print('a - b =',a - b)\n",
        "print('a * b =',a * b)\n",
        "print('a / b =',a / b)\n",
        "print('Quotient: a // b =',a // b)\n",
        "print('modulo: a % b =',a % b)\n",
        "print('a to the bth power: a ** b =',a**b)"
      ]
    },
    {
      "attachments": {},
      "cell_type": "markdown",
      "id": "04dd06ee",
      "metadata": {
        "id": "04dd06ee"
      },
      "source": [
        "String\n",
        "*\tStrings can be created using quotation marks or str(): 'hello', \"2\", str(2).\n",
        "*\tStrings can be concatenated using the + operator: 'hello' + 'python' => 'hellopython'.\n",
        "*\tCharacters can be accessed using [ ] brackets: [start: end(not inclusive): step].\n",
        "*   If start is a negative number, it counts from the end (-1, -2, etc.), and both end and step should also be negative."
      ]
    },
    {
      "cell_type": "code",
      "execution_count": 3,
      "id": "74b2a80e",
      "metadata": {
        "id": "74b2a80e",
        "outputId": "b4efba6e-0b74-4cd2-a926-870e39fcc104"
      },
      "outputs": [
        {
          "name": "stdout",
          "output_type": "stream",
          "text": [
            "abcdefghijklmn\n",
            "a\n",
            "n\n",
            "ghijklm\n",
            "bdfhjln\n",
            "lmn\n",
            "nmlkjihgfedcba\n",
            "jhf\n",
            "<class 'int'>\n",
            "<class 'str'>\n"
          ]
        }
      ],
      "source": [
        "letters1 = 'abcdefg'\n",
        "letters2 = 'hijklmn'\n",
        "letters = letters1 + letters2\n",
        "print(letters)  #'abcdefghijklmn'\n",
        "print(letters[0])   #'a'\n",
        "print(letters[-1])   #'n'\n",
        "print(letters[6:13])    #'ghijklm'\n",
        "print(letters[1::2])    #'bdfhjln'\n",
        "print(letters[-3:])    #'lmn'\n",
        "print(letters[-1::-1])  #'nmlkjihgfedcba'\n",
        "print(letters[-5:-11:-2])   #'jhf'\n",
        "string1=1\n",
        "print(type(string1))\n",
        "string1=str(1)\n",
        "print(type(string1))\n"
      ]
    },
    {
      "attachments": {},
      "cell_type": "markdown",
      "id": "90da6d9a",
      "metadata": {
        "id": "90da6d9a"
      },
      "source": [
        "*\tUse str.split(separator, maxsplit) to split a string\n",
        "*\tUse str.replace(oldvalue, newvalue, maxreplace) to replace values in a string.\n",
        "*\tUse str.strip([chars]) to remove leading and trailing characters."
      ]
    },
    {
      "cell_type": "code",
      "execution_count": 5,
      "id": "84337708",
      "metadata": {
        "id": "84337708",
        "outputId": "a8bf2028-0c14-41e1-f2a3-8872ca4d979e"
      },
      "outputs": [
        {
          "name": "stdout",
          "output_type": "stream",
          "text": [
            "['C4Lab', 'is', 'very-very-good.']\n",
            "['C4Lab/is/very', 'very-good.']\n"
          ]
        }
      ],
      "source": [
        "a = \"C4Lab/is/very-very-good.\"\n",
        "print(a.split('/'))\t#['C4Lab', 'is', 'very-very-good.']\n",
        "print(a.split('-', 1)) #['C4Lab/is/very', 'very-good.']"
      ]
    },
    {
      "cell_type": "code",
      "execution_count": 6,
      "id": "670ebb2b",
      "metadata": {},
      "outputs": [
        {
          "name": "stdout",
          "output_type": "stream",
          "text": [
            "C4Lab is very-very-good.\n",
            "C4Lab/is/super-very-good.\n"
          ]
        }
      ],
      "source": [
        "a = \"C4Lab/is/very-very-good.\"\n",
        "print(a.replace('/',' '))\t#C4Lab is very-very-good.\n",
        "print(a.replace(\"very\",\"super\", 1)) #C4Lab/is/super-very-good."
      ]
    },
    {
      "cell_type": "code",
      "execution_count": 7,
      "id": "1e046097",
      "metadata": {
        "id": "1e046097",
        "outputId": "6cb44bd3-712f-48bd-e2a8-186dabf5a65f"
      },
      "outputs": [
        {
          "data": {
            "text/plain": [
              "'only.?!*letters'"
            ]
          },
          "execution_count": 7,
          "metadata": {},
          "output_type": "execute_result"
        }
      ],
      "source": [
        "a = \"!*.!!only.?!*letters..!?*?*!\"\n",
        "a.strip('.?!*')\t#'only.?!*letters'\n",
        "# how to remove all symbol?"
      ]
    },
    {
      "attachments": {},
      "cell_type": "markdown",
      "id": "657dcb0e",
      "metadata": {
        "id": "657dcb0e"
      },
      "source": [
        "*\tUse str.startswith() to check the beginning of a string.\n",
        "*   Use str.endswith() to check the end of a string."
      ]
    },
    {
      "cell_type": "code",
      "execution_count": 8,
      "id": "fa6edaa9",
      "metadata": {
        "id": "fa6edaa9",
        "outputId": "1243892a-db43-43d9-96aa-cc167d441995"
      },
      "outputs": [
        {
          "name": "stdout",
          "output_type": "stream",
          "text": [
            "True\n",
            "False\n",
            "True\n",
            "False\n"
          ]
        }
      ],
      "source": [
        "a = 'chrATCG'\n",
        "print(a.startswith('c'))\t\t #True\n",
        "print(a.startswith('C'))        #False\n",
        "print(a.endswith('G'))\t\t  #True\n",
        "print(a.endswith('5'))      #False"
      ]
    },
    {
      "attachments": {},
      "cell_type": "markdown",
      "id": "0ce2519c",
      "metadata": {
        "id": "0ce2519c"
      },
      "source": [
        "*\tUse str.find(chars, start, end) to search for a substring within a string.\n",
        "*   If the substring is not found, it returns -1.\n",
        "*   If the substring is found, it returns the starting index of the first occurrence of the substring."
      ]
    },
    {
      "cell_type": "code",
      "execution_count": 9,
      "id": "85964502",
      "metadata": {
        "id": "85964502",
        "outputId": "515d5a4b-b5ab-456a-f29b-1832e80b5dae"
      },
      "outputs": [
        {
          "name": "stdout",
          "output_type": "stream",
          "text": [
            "0\n",
            "5\n",
            "5\n",
            "7\n",
            "-1\n"
          ]
        }
      ],
      "source": [
        "a = '/atcg/ATCG'\n",
        "print(a.find('/'))\t\t#0\n",
        "print(a.find('/',3,6))\t#5\n",
        "print(a.find('/',5))\t#-1\n",
        "print(a.find('TC'))     #7\n",
        "print(a.find('X'))\t\t#-1"
      ]
    },
    {
      "attachments": {},
      "cell_type": "markdown",
      "id": "e6fb81e2",
      "metadata": {
        "id": "e6fb81e2"
      },
      "source": [
        "*\tConvert all characters to uppercase using upper().\n",
        "*   Convert all characters to lowercase using lower()."
      ]
    },
    {
      "cell_type": "code",
      "execution_count": 10,
      "id": "e95471ab",
      "metadata": {
        "id": "e95471ab",
        "outputId": "c12f0948-38bd-425e-986b-1e6b45deb896"
      },
      "outputs": [
        {
          "name": "stdout",
          "output_type": "stream",
          "text": [
            "ATCGATCG\n",
            "atcgatcg\n"
          ]
        }
      ],
      "source": [
        "a = 'atcgATCG'\n",
        "print(a.upper())    #ATCGATCG\n",
        "print(a.lower())    #atcgatcg"
      ]
    },
    {
      "attachments": {},
      "cell_type": "markdown",
      "id": "05e69d99",
      "metadata": {
        "id": "05e69d99"
      },
      "source": [
        "*\tUse len() to get the number of elements.\n",
        "*\tUse in to check if a value exists."
      ]
    },
    {
      "cell_type": "code",
      "execution_count": 11,
      "id": "b15d39ab",
      "metadata": {},
      "outputs": [
        {
          "name": "stdout",
          "output_type": "stream",
          "text": [
            "8\n",
            "True\n",
            "False\n"
          ]
        }
      ],
      "source": [
        "a = 'atcgATCG'\n",
        "print(len(a))\n",
        "print('a' in a)\n",
        "print('b' in a)"
      ]
    },
    {
      "attachments": {},
      "cell_type": "markdown",
      "id": "baf190f2",
      "metadata": {},
      "source": [
        "list\n",
        "*\tlist is composed of zero or more elements, separated by commas, and enclosed in square brackets [ ]."
      ]
    },
    {
      "cell_type": "code",
      "execution_count": 12,
      "id": "ba215b81",
      "metadata": {},
      "outputs": [],
      "source": [
        "a = []\n",
        "a = ['a', 'b', 'c', 'd', 'e', 'f', 'g']"
      ]
    },
    {
      "attachments": {},
      "cell_type": "markdown",
      "id": "05c14c62",
      "metadata": {},
      "source": [
        "*\tUse len() to get number of element\n",
        "*\tUse del to delete element(index)\n",
        "*\tUse in to check the existence of an element"
      ]
    },
    {
      "cell_type": "code",
      "execution_count": 13,
      "id": "79b16314",
      "metadata": {},
      "outputs": [
        {
          "name": "stdout",
          "output_type": "stream",
          "text": [
            "len 7\n",
            "True\n",
            "True\n",
            "a ['a', 'b', 'c', 'd', 'e', 'f', 'g']\n",
            "a ['a', 'e', 'f', 'g']\n",
            "True\n",
            "False\n"
          ]
        }
      ],
      "source": [
        "print('len',len(a))\n",
        "print('e' in a)\n",
        "print('b' in a)\n",
        "print('a',a)\n",
        "del a[1:4]\n",
        "print('a',a)\n",
        "print('e' in a)\n",
        "print('b' in a)"
      ]
    },
    {
      "attachments": {},
      "cell_type": "markdown",
      "id": "823f1dc8",
      "metadata": {},
      "source": [
        "*\tUse append(obj) to add an item to the end.\n",
        "*\tUse insert(index, obj) to insert an item at a specific position.\n",
        "*\tUse sort() to arrange the elements in ascending order. The elements must be of the same type. Use reverse to sort in descending order."
      ]
    },
    {
      "cell_type": "code",
      "execution_count": 14,
      "id": "f723d2e9",
      "metadata": {},
      "outputs": [
        {
          "name": "stdout",
          "output_type": "stream",
          "text": [
            "['a', 'b', 'c', 'd', 'h', 'i', 'a']\n",
            "['a', 'g', 'b', 'c', 'd', 'h', 'i', 'a']\n",
            "['a', 'a', 'b', 'c', 'd', 'g', 'h', 'i']\n",
            "['i', 'h', 'g', 'd', 'c', 'b', 'a', 'a']\n"
          ]
        }
      ],
      "source": [
        "a = ['a', 'b', 'c', 'd', 'h', 'i']\n",
        "a.append('a')\t\t #a = [‘a’, ‘b’, ‘c’, ‘d’, ‘e’, ‘f’, ‘g’, ‘a’]\n",
        "print(a)\n",
        "a.insert(1, 'g')\t\t#a = [‘a’, ‘g’, ‘b’, ‘c’, ‘d’, ‘e’, ‘f’, ‘g’, ‘a’]\n",
        "print(a)\n",
        "a.sort()\t\t\t  #a = [‘a’, ‘b’, ‘c’, ‘d’, ‘e’, ‘f’, ‘g’]\n",
        "print(a)\n",
        "a.sort(reverse=True)\n",
        "print(a)"
      ]
    },
    {
      "attachments": {},
      "cell_type": "markdown",
      "id": "0a3fa48e",
      "metadata": {},
      "source": [
        "Dictionary\n",
        "*\tA dictionary is used to access element values using keys other than numeric indices. It can be created using curly braces { }\n",
        "*\tUse [key] to add or modify an item in the dictionary."
      ]
    },
    {
      "cell_type": "code",
      "execution_count": 15,
      "id": "2364c46e",
      "metadata": {},
      "outputs": [
        {
          "name": "stdout",
          "output_type": "stream",
          "text": [
            "food[A] rice\n",
            "food {'A': 'rice', 'B': 'noodle'}\n",
            "food {'A': 'rice', 'B': 'noodle', 'C': 123}\n",
            "food {'A': 'rice', 'B': (True, (1+3j)), 'C': 123}\n"
          ]
        }
      ],
      "source": [
        "food = {'A': 'rice', 'B': 'noodle'}\n",
        "print('food[A]',food['A'])\n",
        "print('food',food)\n",
        "\n",
        "food['C'] = 123\n",
        "print('food',food)\n",
        "\n",
        "food['B'] = True, 1+3j\n",
        "print('food',food)"
      ]
    },
    {
      "attachments": {},
      "cell_type": "markdown",
      "id": "63c89693",
      "metadata": {},
      "source": [
        "*\tUse keys() to get all the keys in the dictionary.\n",
        "*\tUse values() to get all the values in the dictionary.\n",
        "*\tUse items() to get each key/value pair in the dictionary."
      ]
    },
    {
      "cell_type": "code",
      "execution_count": 16,
      "id": "1bdad2d4",
      "metadata": {},
      "outputs": [
        {
          "name": "stdout",
          "output_type": "stream",
          "text": [
            "dict_keys(['A', 'B', 'C'])\n",
            "dict_values(['rice', (True, (1+3j)), 123])\n",
            "dict_items([('A', 'rice'), ('B', (True, (1+3j))), ('C', 123)])\n"
          ]
        }
      ],
      "source": [
        "print(food.keys())\n",
        "print(food.values())\n",
        "print(food.items())"
      ]
    },
    {
      "attachments": {},
      "cell_type": "markdown",
      "id": "a5fb418d",
      "metadata": {},
      "source": [
        "tuple\n",
        "*    Tuples and lists are are both iterable (can be looped over) \n",
        "*    Tuples cannot be modified once created.\n",
        "*   You need to add a comma when there's only one element in a tuple"
      ]
    },
    {
      "cell_type": "code",
      "execution_count": 17,
      "id": "63634d7b",
      "metadata": {},
      "outputs": [
        {
          "name": "stdout",
          "output_type": "stream",
          "text": [
            "<class 'int'> <class 'tuple'> <class 'tuple'>\n",
            "72\n",
            "120\n",
            "(10, 72, 120)\n"
          ]
        }
      ],
      "source": [
        "number = 0, 10, 55, 72, 88, 120, 66\n",
        "one = (8)\n",
        "only_one = (8,)\n",
        "print(type(one),type(only_one),type(number))\n",
        "print(number[3])\n",
        "print(number[-2])\n",
        "print(number[1:6:2])"
      ]
    },
    {
      "attachments": {},
      "cell_type": "markdown",
      "id": "e3d27677",
      "metadata": {},
      "source": [
        "set\n",
        "*  A set is an unordered collection of unique elements. It does not contain duplicate values.\n",
        "*  Use the add(value) method to add a new element to the set. Use the remove(value) method to remove an element from the set."
      ]
    },
    {
      "cell_type": "code",
      "execution_count": 18,
      "id": "3ab9d6dc",
      "metadata": {},
      "outputs": [
        {
          "name": "stdout",
          "output_type": "stream",
          "text": [
            "set()\n",
            "{1, 2, 3, 4, 5}\n",
            "{1, 2, 3}\n",
            "{1, 3, 4, 5}\n",
            "{1, 2, 3, 4}\n"
          ]
        }
      ],
      "source": [
        "set1 = set()  #Creating an empty set using set()\n",
        "set2 = {2, 1, 4, 5, 3}  #Creating a set with elements using curly braces { }\n",
        "set3 = {1, 1, 2, 2, 3}  #The elements in a set are unique.\n",
        "\n",
        "print(set1)\n",
        "print(set2)\n",
        "print(set3)\n",
        "set3.add(4)\n",
        "set2.remove(2)\n",
        "print(set2)\n",
        "print(set3)"
      ]
    },
    {
      "attachments": {},
      "cell_type": "markdown",
      "id": "8e6d9358",
      "metadata": {},
      "source": [
        "if/while/for "
      ]
    },
    {
      "attachments": {},
      "cell_type": "markdown",
      "id": "a731b12f",
      "metadata": {},
      "source": [
        "if condittion\n",
        "\n",
        "    if condition:\n",
        "      execute the statement\n",
        "    elif condition:\n",
        "      execute the statement\n",
        "    else:\n",
        "      execute the statement\n"
      ]
    },
    {
      "cell_type": "code",
      "execution_count": 19,
      "id": "62bd52ad",
      "metadata": {},
      "outputs": [
        {
          "name": "stdout",
          "output_type": "stream",
          "text": [
            "aa is  2\n"
          ]
        }
      ],
      "source": [
        "a = 2\n",
        "if(a == 1):\n",
        "  print('a is ',a)\n",
        "elif(a == 2):\n",
        "  print('aa is ',a)\n",
        "elif(a == 3):\n",
        "  print('aaa is ',a)\n",
        "else:\n",
        "  print('aaaa is ',a)"
      ]
    },
    {
      "attachments": {},
      "cell_type": "markdown",
      "id": "caca1cc0",
      "metadata": {},
      "source": [
        "（&，|）和（and，or）\n",
        "* a & b, a | b, a and b, a or b\n",
        "* If a and b are both boolean values, there is no difference between using (and &),( or |).\n",
        "* If a and b are numerical variables, & and | perform bitwise operations.\n",
        "*   input> & |\n",
        "*    0 0 >> 0 0\n",
        "*    1 0 >> 0 1\n",
        "*    0 1 >> 0 1\n",
        "*    1 1 >> 1 1\n"
      ]
    },
    {
      "cell_type": "code",
      "execution_count": 20,
      "id": "7a3bea5b",
      "metadata": {},
      "outputs": [
        {
          "name": "stdout",
          "output_type": "stream",
          "text": [
            "8\n",
            "11\n",
            "False\n",
            "True\n"
          ]
        }
      ],
      "source": [
        "a = 10 #1010\n",
        "b = 9 #1001\n",
        "print(a & b)  #8 = 1000\n",
        "print(a | b)  #11 = 1011\n",
        "\n",
        "c = True\n",
        "d = False\n",
        "print(c & d)  #False\n",
        "print(c | d)  #True"
      ]
    },
    {
      "attachments": {},
      "cell_type": "markdown",
      "id": "08362cce",
      "metadata": {},
      "source": [
        "* (and , or) are logical operators used to check if a value is 0. In Python, 0 is considered False, while any non-zero value is considered  True.\n",
        "* In the and operation, if any of the values is 0 (False), the result will be 0 (False); otherwise, the result will be the last evaluated \n",
        "  value\n",
        "* In the or operation, if any of the values is non-zero (True), the result will be the first non-zero value encountered; otherwise, the \n",
        "  result will be 0 (False)."
      ]
    },
    {
      "cell_type": "code",
      "execution_count": 21,
      "id": "dccdae76",
      "metadata": {},
      "outputs": [
        {
          "name": "stdout",
          "output_type": "stream",
          "text": [
            "9\n",
            "10\n",
            "0\n",
            "10\n",
            "9\n",
            "False\n",
            "True\n"
          ]
        }
      ],
      "source": [
        "a = 10 #1010\n",
        "b = 9 #1001\n",
        "zero = 0\n",
        "print(a and b)  #9\n",
        "print(a or b)  #10\n",
        "print(a and zero) #0\n",
        "print(a or b or zero) #10\n",
        "print(b or a or zero) #9\n",
        "\n",
        "c = True\n",
        "d = False\n",
        "print(c and d)  #False\n",
        "print(c or d)  #True"
      ]
    },
    {
      "attachments": {},
      "cell_type": "markdown",
      "id": "fc040067",
      "metadata": {},
      "source": [
        "while function:\n",
        "\n",
        "    while condition:\n",
        "\n",
        "      if condition:\n",
        "        continue\n",
        "      if condition:\n",
        "        break\n"
      ]
    },
    {
      "cell_type": "code",
      "execution_count": 22,
      "id": "1c140ac7",
      "metadata": {},
      "outputs": [
        {
          "name": "stdout",
          "output_type": "stream",
          "text": [
            "0\n",
            "1\n",
            "2\n",
            "3\n",
            "4\n",
            "5\n"
          ]
        }
      ],
      "source": [
        "a = -1\n",
        "while a < 5:\n",
        "  a = a + 1\n",
        "  print(a)"
      ]
    },
    {
      "attachments": {},
      "cell_type": "markdown",
      "id": "1828eb45",
      "metadata": {},
      "source": [
        "*   break: Terminates the loop immediately when a condition is met.\n",
        "*   continue: Skips the remaining code in the current iteration when a condition is met.\n",
        "*   pass: Ignores the condition and continues executing the loop normally."
      ]
    },
    {
      "cell_type": "code",
      "execution_count": 23,
      "id": "b5ea7bcb",
      "metadata": {},
      "outputs": [
        {
          "name": "stdout",
          "output_type": "stream",
          "text": [
            "it is 0  now\n",
            "number 0\n",
            "it is 1  now\n",
            "number 1\n",
            "it is 2  now\n",
            "number 2\n",
            "it is 3  now\n",
            "number 3\n",
            "it is 4 1 now\n",
            "it is 4 2 now\n",
            "number 4\n",
            "it is 5 1 now\n",
            "it is 6  now\n",
            "number 6\n",
            "it is 7  now\n",
            "number 7\n",
            "it is 8  now\n",
            "number 8\n",
            "it is 9  now\n",
            "number 9\n",
            "it is 10 now\n",
            "It is done\n"
          ]
        }
      ],
      "source": [
        "a = -1\n",
        "while True:\n",
        "  a = a + 1\n",
        "\n",
        "  if(a == 10):\n",
        "    print('it is', a,'now')\n",
        "    break\n",
        "  elif(a == 5):\n",
        "    print('it is', a,'1 now')\n",
        "    continue\n",
        "    print('it is', a,'2 now')\n",
        "  elif(a == 4):\n",
        "    print('it is', a,'1 now')\n",
        "    pass\n",
        "    print('it is', a,'2 now')\n",
        "  else:\n",
        "    print('it is', a,' now')\n",
        "  print('number', a)\n",
        "print('It is done')"
      ]
    },
    {
      "attachments": {},
      "cell_type": "markdown",
      "id": "4263a963",
      "metadata": {},
      "source": [
        "range function>>range(start, end, step)\n",
        "* start: The counting starts from the start value. By default, it starts from 0. For example, range(5) is equivalent to range(0, 5)\n",
        "* stop: The counting stops at the stop value, but it does not include the stop value itself. For example, range(0, 5) generates the sequence [0, 1, 2, 3, 4], where 5 is not  included.\n",
        "* step: The step value determines the increment between each number in the sequence. It defaults to 1. For example, range(0, 5) is equivalent to range(0, 5, 1)"
      ]
    },
    {
      "cell_type": "code",
      "execution_count": 24,
      "id": "b3d04e34",
      "metadata": {},
      "outputs": [
        {
          "name": "stdout",
          "output_type": "stream",
          "text": [
            "<class 'range'>\n",
            "range(0, 10)\n"
          ]
        }
      ],
      "source": [
        "a = range(10)\n",
        "print(type(a))\n",
        "print(a)"
      ]
    },
    {
      "attachments": {},
      "cell_type": "markdown",
      "id": "3aaf4d07",
      "metadata": {},
      "source": [
        "for function:\n",
        "\n",
        "    for i in sequence:\n",
        "      Code to be executed"
      ]
    },
    {
      "cell_type": "code",
      "execution_count": 25,
      "id": "0748127f",
      "metadata": {},
      "outputs": [
        {
          "name": "stdout",
          "output_type": "stream",
          "text": [
            "0\n",
            "1\n",
            "2\n",
            "3\n",
            "4\n",
            "-------\n",
            "0\n",
            "3\n",
            "6\n",
            "9\n"
          ]
        }
      ],
      "source": [
        "for i in range(5):\n",
        "  print(i)\n",
        "\n",
        "print('-------')\n",
        "\n",
        "for i in range(0,10,3):\n",
        "  print(i)"
      ]
    },
    {
      "cell_type": "code",
      "execution_count": 26,
      "id": "1c018b59",
      "metadata": {},
      "outputs": [
        {
          "name": "stdout",
          "output_type": "stream",
          "text": [
            "a\n",
            "b\n",
            "c\n",
            "d\n",
            "e\n",
            "f\n",
            "g\n",
            "0 a\n",
            "1 b\n",
            "2 c\n",
            "3 d\n",
            "4 e\n",
            "5 f\n",
            "6 g\n"
          ]
        }
      ],
      "source": [
        "a = ['a', 'b', 'c', 'd', 'e', 'f', 'g']\n",
        "\n",
        "for i in a:\n",
        "  print(i)\n",
        "\n",
        "for i in range(len(a)):\n",
        "  print(i,a[i])"
      ]
    },
    {
      "cell_type": "code",
      "execution_count": 27,
      "id": "38e247fb",
      "metadata": {},
      "outputs": [
        {
          "name": "stdout",
          "output_type": "stream",
          "text": [
            "A\n",
            "B\n",
            "C\n",
            "rice\n",
            "123\n",
            "['pizza', '155']\n",
            "('A', 'rice')\n",
            "('B', 123)\n",
            "('C', ['pizza', '155'])\n",
            "A\n",
            "B\n",
            "C\n"
          ]
        }
      ],
      "source": [
        "food = {'A': 'rice', 'B': 123, 'C': ['pizza','155']}\n",
        "\n",
        "for key in food.keys():\n",
        "  print(key)\n",
        "\n",
        "for value in food.values():\n",
        "  print(value)\n",
        "\n",
        "for item in food.items():\n",
        "  print(item)\n",
        "\n",
        "for i in food:\n",
        "    print(i)"
      ]
    },
    {
      "attachments": {},
      "cell_type": "markdown",
      "id": "b8c655cd",
      "metadata": {},
      "source": [
        "practice 1:\n",
        "\n",
        "given a sequence of atcg ,please output the total count of a,t,c,g respectively\n",
        "\n",
        "output format(a: count,t: count,c: count,g: count)"
      ]
    },
    {
      "cell_type": "code",
      "execution_count": 31,
      "id": "62aa67c0",
      "metadata": {},
      "outputs": [
        {
          "name": "stdout",
          "output_type": "stream",
          "text": [
            "a:69, t:77, c:75, g:63\n"
          ]
        }
      ],
      "source": [
        "seq = 'gcccagtctgtgacccagcttgacagccaagtccctgtctttgaagaagcccctgtggagctgaggtgcaactactcatcgtctgtttcagtgtatctcttctggtatgtgcaataccccaaccaaggactccagcttctcctgaagtatttatcaggatccaccctggttgaaagcatcaacggttttgaggctgaatttaacaagagtcaaacttccttccacttgaggaaaccctcagtccatataagcgacacggctgagtacttctgtgctgtgagtga'\n",
        "######## TODO ########\n",
        "print('a:', seq.count('a'), ', t:', seq.count('t'), ', c:', seq.count('c'), ', g:', seq.count('g'), sep='')"
      ]
    },
    {
      "attachments": {},
      "cell_type": "markdown",
      "id": "cb234de7",
      "metadata": {},
      "source": [
        "a: 69 t: 77 c: 75 g: 63\n",
        "\n",
        "print('a:', seq.count('a'), 't:', seq.count('t'), 'c:', seq.count('c'), 'g:', seq.count('g'))"
      ]
    },
    {
      "attachments": {},
      "cell_type": "markdown",
      "id": "ac6f6f77",
      "metadata": {},
      "source": [
        "Function Structure:\n",
        "\n",
        "The function structure in Python using the def keyword is as follows:\n",
        "\n",
        "    def function_name(parameter):\n",
        "      code to be execute\n",
        "      return"
      ]
    },
    {
      "cell_type": "code",
      "execution_count": 32,
      "id": "9e8aad4b",
      "metadata": {},
      "outputs": [
        {
          "name": "stdout",
          "output_type": "stream",
          "text": [
            "19\n",
            "1.7142857142857142 84\n",
            "cat\n",
            "cut\n"
          ]
        }
      ],
      "source": [
        "def caculate(num1,num2):\n",
        "  devide = num1 / num2\n",
        "  mult = num1 * num2\n",
        "  return devide,mult\n",
        "def sum(_1,_2):\n",
        "  return _1 + _2\n",
        "def replace_word(word, old, new):\n",
        "    word = word.replace(old,new)\n",
        "    return word\n",
        "\n",
        "a = 12\n",
        "b = 7\n",
        "total = sum(a,b)\n",
        "print(total)\n",
        "\n",
        "de , mu = caculate(a,b)\n",
        "print(de,mu)\n",
        "\n",
        "voc = 'cat'\n",
        "old_char = 'a'\n",
        "new_char = 'u'\n",
        "new_voc = replace_word(voc, old_char, new_char)\n",
        "print(voc)\n",
        "print(new_voc)"
      ]
    },
    {
      "attachments": {},
      "cell_type": "markdown",
      "id": "2eef9c74",
      "metadata": {},
      "source": [
        "Practice 2\n",
        "* Sequence Alignment Scoring\n",
        "* Given two sequences, calculate the score using a function with the following scoring scheme: +2 for a match, -1 for a mismatch, and -2 for a gap.\n",
        "* upload code to 2024_summer_week1"
      ]
    },
    {
      "cell_type": "code",
      "execution_count": 34,
      "id": "55f3e8ae",
      "metadata": {},
      "outputs": [
        {
          "name": "stdout",
          "output_type": "stream",
          "text": [
            "3\n"
          ]
        },
        {
          "data": {
            "text/plain": [
              "0"
            ]
          },
          "execution_count": 34,
          "metadata": {},
          "output_type": "execute_result"
        }
      ],
      "source": [
        "def score_align(seq1, seq2):\n",
        "  ######## TODO ########\n",
        "  score = 0\n",
        "  for i in range(len(seq1)):\n",
        "    if seq1[i] == seq2[i]:\n",
        "      score += 2\n",
        "    elif seq1[i] == '-' or seq2[i] == '-':\n",
        "      score -= 2\n",
        "    else:\n",
        "      score -= 1\n",
        "  print(score)\n",
        "  return 0\n",
        "\n",
        "seq1 = '--AGTGCATG-ACATA'\n",
        "seq2 = 'TCAGTC--TCTACAGA'\n",
        "\n",
        "score_align(seq1,seq2)"
      ]
    },
    {
      "attachments": {},
      "cell_type": "markdown",
      "id": "e3c034b5",
      "metadata": {},
      "source": [
        "* Class: A class is like a blueprint that can be used to create instances (objects) with similar characteristics\n",
        "* The \\_\\_init___ method is used to initialize the variables of an object within a class.\n",
        "* To assign a value to a variable of an object, you can use the syntax object_name.variable_name = variable_value."
      ]
    },
    {
      "cell_type": "code",
      "execution_count": 2,
      "id": "15aa3613",
      "metadata": {},
      "outputs": [
        {
          "name": "stdout",
          "output_type": "stream",
          "text": [
            "Buddy makes a sound and barks\n",
            "Whiskers makes a sound and meows\n"
          ]
        }
      ],
      "source": [
        "class Animal:\n",
        "    def __init__(self, name):\n",
        "        self.name = name\n",
        "\n",
        "    def speak(self):\n",
        "        return f\"{self.name} makes a sound\"\n",
        "\n",
        "# Define the child class, inheriting from Animal\n",
        "class Dog(Animal):\n",
        "    def __init__(self, name, breed):\n",
        "        Animal.__init__(self, name)  # Directly call the parent class constructor\n",
        "        self.breed = breed\n",
        "\n",
        "    def speak(self):\n",
        "        # Directly call the parent class speak method and extend its functionality\n",
        "        base_speak = Animal.speak(self)\n",
        "        return f\"{base_speak} and barks\"\n",
        "\n",
        "class Cat(Animal):\n",
        "    def __init__(self, name, color):\n",
        "        Animal.__init__(self, name)  # Directly call the parent class constructor\n",
        "        self.color = color\n",
        "\n",
        "    def speak(self):\n",
        "        # Directly call the parent class speak method and extend its functionality\n",
        "        base_speak = Animal.speak(self)\n",
        "        return f\"{base_speak} and meows\"\n",
        "\n",
        "# Create objects\n",
        "dog = Dog(\"Buddy\", \"Golden Retriever\")\n",
        "cat = Cat(\"Whiskers\", \"Tabby\")\n",
        "\n",
        "# Use the objects\n",
        "print(dog.speak())  # Output: Buddy makes a sound and barks\n",
        "print(cat.speak())  # Output: Whiskers makes a sound and meows\n"
      ]
    },
    {
      "cell_type": "markdown",
      "id": "9ecf5863",
      "metadata": {},
      "source": [
        "* Recursion:Recursion is a method of solving problems where a function calls itself directly or indirectly. It is often used to break down complex problems into simpler, smaller sub-problems which can be solved more easily.\n",
        "* Base Case: The condition under which the recursion ends to prevent infinite loops.\n",
        "* Recursive Case: The part of the function where it calls itself to solve a smaller sub-problem."
      ]
    },
    {
      "cell_type": "code",
      "execution_count": 35,
      "id": "56538ed3",
      "metadata": {},
      "outputs": [
        {
          "name": "stdout",
          "output_type": "stream",
          "text": [
            "120\n"
          ]
        }
      ],
      "source": [
        "def factorial(n):\n",
        "    # Base case\n",
        "    if n == 0:\n",
        "        return 1\n",
        "    # Recursive case\n",
        "    else:\n",
        "        return n * factorial(n - 1)\n",
        "print(factorial(5))  # Output: 120"
      ]
    },
    {
      "attachments": {},
      "cell_type": "markdown",
      "id": "588b77c7",
      "metadata": {},
      "source": [
        "With open() function: you can open a file in various modes. Here are the different ways:\n",
        "\n",
        "    with open(path, type) as variable:\n",
        "    # Code to execute:\n",
        "      \n",
        "\n",
        "* type\tinfo\n",
        "* 'r': Open the file in read-only mode. The file pointer will be placed at the beginning of the file. This is the default mode\n",
        "* 'w': Open the file for writing. If the file already exists, it will be overwritten. If the file does not exist, a new file will be created.\n",
        "* 'a': Open the file for appending. If the file exists, the file pointer will be placed at the end of the file. This means that new content will be written after the existing content. If the file does not exist,     a new file will be created for writing"
      ]
    },
    {
      "cell_type": "code",
      "execution_count": 39,
      "metadata": {},
      "outputs": [
        {
          "name": "stdout",
          "output_type": "stream",
          "text": [
            "0\n",
            "\n",
            "1\n",
            "\n",
            "2\n",
            "\n",
            "3\n",
            "\n",
            "4\n",
            "\n",
            "5\n",
            "\n",
            "6\n",
            "\n",
            "7\n",
            "\n",
            "8\n",
            "\n",
            "9\n",
            "\n"
          ]
        }
      ],
      "source": [
        "with open('./test.txt' , 'w') as f: #create a file call test\n",
        "  for i in range(10):\n",
        "    f.write(str(i)+'\\n')                     #write in 0-9\n",
        "\n",
        "with open('./test.txt' , 'r') as f: #read file call test\n",
        "  for i in f:                                #To obtain each line of a file using iteration\n",
        "    print(i)"
      ]
    },
    {
      "cell_type": "markdown",
      "id": "95b3f8f9",
      "metadata": {},
      "source": [
        "The answer to the first question"
      ]
    },
    {
      "cell_type": "code",
      "execution_count": 26,
      "id": "6839e088",
      "metadata": {},
      "outputs": [
        {
          "name": "stdout",
          "output_type": "stream",
          "text": [
            "a: 69, t: 77, c: 75, g: 63\n"
          ]
        }
      ],
      "source": [
        "seq = 'gcccagtctgtgacccagcttgacagccaagtccctgtctttgaagaagcccctgtggagctgaggtgcaactactcatcgtctgtttcagtgtatctcttctggtatgtgcaataccccaaccaaggactccagcttctcctgaagtatttatcaggatccaccctggttgaaagcatcaacggttttgaggctgaatttaacaagagtcaaacttccttccacttgaggaaaccctcagtccatataagcgacacggctgagtacttctgtgctgtgagtga'\n",
        "\n",
        "a_count = 0\n",
        "t_count = 0\n",
        "c_count = 0\n",
        "g_count = 0\n",
        "\n",
        "for n in seq:\n",
        "    if n == 'a':\n",
        "        a_count += 1\n",
        "    elif n == 't':\n",
        "        t_count += 1\n",
        "    elif n == 'c':\n",
        "        c_count += 1\n",
        "    elif n == 'g':\n",
        "        g_count += 1\n",
        "\n",
        "output = f\"a: {a_count}, t: {t_count}, c: {c_count}, g: {g_count}\"\n",
        "print(output)\n"
      ]
    },
    {
      "cell_type": "markdown",
      "id": "bc11a83b",
      "metadata": {},
      "source": [
        "The answer to the second question"
      ]
    },
    {
      "cell_type": "code",
      "execution_count": 5,
      "id": "c4f13e7b",
      "metadata": {},
      "outputs": [
        {
          "name": "stdout",
          "output_type": "stream",
          "text": [
            "The alignment score is: 3\n"
          ]
        }
      ],
      "source": [
        "seq1 = '--AGTGCATG-ACATA'\n",
        "seq2 = 'TCAGTC--TCTACAGA'\n",
        "def score_align(seq1, seq2):\n",
        "    score = 0\n",
        "    for char1, char2 in zip(seq1, seq2):\n",
        "        if char1 == '-' or char2 == '-':\n",
        "            score -= 2\n",
        "        elif char1 == char2:\n",
        "            score += 2\n",
        "        else:\n",
        "            score -= 1\n",
        "    return score\n",
        "result = score_align(seq1, seq2)\n",
        "print(f\"The alignment score is: {result}\")\n"
      ]
    }
  ],
  "metadata": {
    "colab": {
      "provenance": []
    },
    "kernelspec": {
      "display_name": "Python 3.9.12 ('anaconda3': virtualenv)",
      "language": "python",
      "name": "python3"
    },
    "language_info": {
      "codemirror_mode": {
        "name": "ipython",
        "version": 3
      },
      "file_extension": ".py",
      "mimetype": "text/x-python",
      "name": "python",
      "nbconvert_exporter": "python",
      "pygments_lexer": "ipython3",
      "version": "3.10.14"
    },
    "vscode": {
      "interpreter": {
        "hash": "26aa8b5a6e11acda768583dd2aa10e2c95a74de22e1d9e191fe642250c409194"
      }
    }
  },
  "nbformat": 4,
  "nbformat_minor": 5
}
